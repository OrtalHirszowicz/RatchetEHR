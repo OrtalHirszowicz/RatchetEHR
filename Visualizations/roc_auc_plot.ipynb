{
 "cells": [
  {
   "cell_type": "code",
   "execution_count": null,
   "metadata": {},
   "outputs": [],
   "source": [
    "import sys\n",
    "from pathlib import Path\n",
    "from os.path import dirname, abspath\n",
    "d = dirname(abspath(Path.cwd()))\n",
    "sys.path.insert(0, d)\n",
    "import hyper_params\n",
    "import pickle\n",
    "from sklearn.metrics import RocCurveDisplay\n",
    "import matplotlib.pyplot as plt\n",
    "from Utils.delong_auc_test import delong_roc_test\n",
    "import numpy as np\n",
    "from rpy2 import robjects\n",
    "import rpy2.robjects.packages as rpackages\n",
    "\n",
    "utils = rpackages.importr('utils')\n",
    "utils.install_packages(\"pROC\")\n",
    "\n",
    "with open(hyper_params.LOCATION_OF_RESULTS_ON_TEST_GROUP, 'rb') as f:\n",
    "    results = pickle.load(f)\n"
   ]
  },
  {
   "cell_type": "code",
   "execution_count": null,
   "metadata": {},
   "outputs": [],
   "source": [
    "relevant_persons = set(results['rnn']['Person indices'])\n",
    "for model_name in results:\n",
    "    relevant_persons = set(results[model_name]['Person indices']).intersection(relevant_persons)\n",
    "get_model_info = lambda model: {p: (prediction, ground_truth) for p, prediction, ground_truth in \n",
    "                                     zip(results[model]['Person indices'], results[model]['Estimated score'], results[model]['Ground truth'])}"
   ]
  },
  {
   "cell_type": "code",
   "execution_count": null,
   "metadata": {},
   "outputs": [],
   "source": [
    "ax = plt.gca()\n",
    "new_names = {'rnn': \"RNN\", \"lstm\": \"LSTM\", \"XGBoost\": \"XGBoost\", \"bsi_mimiciv_train\": \"RatchetEHR\"}\n",
    "for model_name in results:\n",
    "    if model_name in new_names:\n",
    "        model_info = get_model_info(model_name)\n",
    "        model_info = [model_info[p] for p in sorted(relevant_persons, key= lambda x: x[1])]\n",
    "        RocCurveDisplay.from_predictions(y_true = [x[1] for x in model_info], \n",
    "                                        y_pred = [x[0] for x in model_info], \n",
    "                                        name = new_names[model_name],ax = ax)"
   ]
  },
  {
   "cell_type": "code",
   "execution_count": null,
   "metadata": {},
   "outputs": [],
   "source": [
    "import sklearn\n",
    "import scipy\n",
    "%load_ext rpy2.ipython\n",
    "for first_model_name in results:\n",
    "    for second_model_name in results:\n",
    "        if first_model_name == 'bsi_mimiciv_train' and first_model_name != second_model_name and first_model_name in new_names and second_model_name in new_names:\n",
    "            first_model_info = get_model_info(first_model_name)\n",
    "            first_model_info = [first_model_info[p] for p in sorted(relevant_persons, key= lambda x: x[1])]\n",
    "            second_model_info = get_model_info(second_model_name)\n",
    "            second_model_info = [second_model_info[p] for p in sorted(relevant_persons, key= lambda x: x[1])]\n",
    "            assert([x[1] for x in first_model_info] == [x[1] for x in second_model_info])\n",
    "            print(len([x[1] for x in first_model_info if x[1] == 1]) / len([x[1] for x in first_model_info]))\n",
    "            print(\"p-value for \", new_names[first_model_name], \n",
    "                  \" VS \", new_names[second_model_name])\n",
    "            r_text = '''library(pROC)''' +'\\n'+ \\\n",
    "            '''response<-c''' + str(tuple([x[1] for x in first_model_info])) +'\\n' +\\\n",
    "                '''modela<-c''' + str(tuple([x[0] for x in first_model_info])) + '\\n' +\\\n",
    "                '''modelb<-c''' + str(tuple([x[0] for x in second_model_info])) + '\\n' + \\\n",
    "                '''roca <- roc(response,modela)''' + '\\n' + \\\n",
    "                '''rocb<-roc(response,modelb)''' + '\\n' + \\\n",
    "                '''roc.test(roca,rocb,method=c(\"delong\"), boot.n = 1500)'''\n",
    "            get_ipython().run_cell_magic(\n",
    "                \"R\",\n",
    "                \"\",\n",
    "                r_text\n",
    "                )"
   ]
  },
  {
   "cell_type": "code",
   "execution_count": null,
   "metadata": {},
   "outputs": [],
   "source": []
  },
  {
   "cell_type": "code",
   "execution_count": null,
   "metadata": {},
   "outputs": [],
   "source": [
    "\n",
    "# robjects.r('''\n",
    "#     library(pROC)\n",
    "#     add_nums = roc([0.5], [1])\n",
    "    \n",
    "#     print(add_nums)\n",
    "# ''')"
   ]
  },
  {
   "cell_type": "code",
   "execution_count": null,
   "metadata": {},
   "outputs": [],
   "source": []
  }
 ],
 "metadata": {
  "kernelspec": {
   "display_name": "base",
   "language": "python",
   "name": "python3"
  },
  "language_info": {
   "codemirror_mode": {
    "name": "ipython",
    "version": 3
   },
   "file_extension": ".py",
   "mimetype": "text/x-python",
   "name": "python",
   "nbconvert_exporter": "python",
   "pygments_lexer": "ipython3",
   "version": "3.9.12"
  },
  "orig_nbformat": 4,
  "vscode": {
   "interpreter": {
    "hash": "b1ea94ee601290ca92cde6b572b544f987186724d782a79f547c1d862f89ffe7"
   }
  }
 },
 "nbformat": 4,
 "nbformat_minor": 2
}
